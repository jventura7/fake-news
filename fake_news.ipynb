{
 "cells": [
  {
   "cell_type": "markdown",
   "metadata": {},
   "source": [
    "# Fake News Classifier: Naive Bayes, Linear SVM, and Multilayer Perceptron\n",
    "### CS 4824 / ECE 4424, Spring '21"
   ]
  },
  {
   "cell_type": "code",
   "execution_count": 43,
   "metadata": {},
   "outputs": [
    {
     "name": "stdout",
     "output_type": "stream",
     "text": [
      "The autoreload extension is already loaded. To reload it, use:\n",
      "  %reload_ext autoreload\n"
     ]
    },
    {
     "name": "stderr",
     "output_type": "stream",
     "text": [
      "[nltk_data] Downloading package stopwords to\n",
      "[nltk_data]     /Users/johnventura/nltk_data...\n",
      "[nltk_data]   Package stopwords is already up-to-date!\n",
      "[nltk_data] Downloading package wordnet to\n",
      "[nltk_data]     /Users/johnventura/nltk_data...\n",
      "[nltk_data]   Package wordnet is already up-to-date!\n",
      "[nltk_data] Downloading package punkt to\n",
      "[nltk_data]     /Users/johnventura/nltk_data...\n",
      "[nltk_data]   Package punkt is already up-to-date!\n"
     ]
    }
   ],
   "source": [
    "###### standard imports ######\n",
    "%load_ext autoreload\n",
    "%autoreload 2\n",
    "import pandas as pd\n",
    "import numpy as np\n",
    "import seaborn as sns\n",
    "import matplotlib.pyplot as plt\n",
    "import re\n",
    "import string\n",
    "import nltk\n",
    "from nltk.corpus import stopwords\n",
    "from nltk.stem import WordNetLemmatizer\n",
    "from nltk.tokenize import word_tokenize\n",
    "from linear_classifier import linear_predict, log_reg_train\n",
    "from naive_bayes import naive_bayes_train, naive_bayes_predict\n",
    "from mlp import mlp_train, mlp_predict, logistic, nll\n",
    "from kernelsvm import kernel_svm_train, kernel_svm_predict\n",
    "nltk.download('stopwords')\n",
    "nltk.download('wordnet')\n",
    "nltk.download('punkt')\n",
    "plt.style.use('ggplot')"
   ]
  },
  {
   "cell_type": "code",
   "execution_count": 45,
   "metadata": {
    "scrolled": true
   },
   "outputs": [],
   "source": [
    "###### Import our train data and check out its dimensions ######\n",
    "train_data = pd.read_csv(\"train.csv\")\n",
    "train_data = train_data.head(1000)\n",
    "test_data = pd.read_csv(\"test.csv\")\n",
    "test_data = test_data.head(160)\n",
    "rows_train, cols_train = train_data.shape\n",
    "rows_test, cols_test = test_data.shape"
   ]
  },
  {
   "cell_type": "code",
   "execution_count": 46,
   "metadata": {
    "scrolled": true
   },
   "outputs": [
    {
     "data": {
      "text/html": [
       "<div>\n",
       "<style scoped>\n",
       "    .dataframe tbody tr th:only-of-type {\n",
       "        vertical-align: middle;\n",
       "    }\n",
       "\n",
       "    .dataframe tbody tr th {\n",
       "        vertical-align: top;\n",
       "    }\n",
       "\n",
       "    .dataframe thead th {\n",
       "        text-align: right;\n",
       "    }\n",
       "</style>\n",
       "<table border=\"1\" class=\"dataframe\">\n",
       "  <thead>\n",
       "    <tr style=\"text-align: right;\">\n",
       "      <th></th>\n",
       "      <th>title</th>\n",
       "      <th>text</th>\n",
       "      <th>subject</th>\n",
       "      <th>date</th>\n",
       "      <th>label</th>\n",
       "    </tr>\n",
       "  </thead>\n",
       "  <tbody>\n",
       "    <tr>\n",
       "      <th>0</th>\n",
       "      <td>Clinton faces pressure to pick VP who is tough...</td>\n",
       "      <td>WASHINGTON (Reuters) - Members of the Democrat...</td>\n",
       "      <td>politicsNews</td>\n",
       "      <td>July 21, 2016</td>\n",
       "      <td>real</td>\n",
       "    </tr>\n",
       "    <tr>\n",
       "      <th>1</th>\n",
       "      <td>Ryan, Trump cite 'positive step' toward Republ...</td>\n",
       "      <td>WASHINGTON (Reuters) - Presumptive Republican ...</td>\n",
       "      <td>politicsNews</td>\n",
       "      <td>May 12, 2016</td>\n",
       "      <td>real</td>\n",
       "    </tr>\n",
       "    <tr>\n",
       "      <th>2</th>\n",
       "      <td>WATCH: President Obama Dares Republicans To S...</td>\n",
       "      <td>Conservatives talk the talk but can they walk ...</td>\n",
       "      <td>News</td>\n",
       "      <td>July 9, 2016</td>\n",
       "      <td>fake</td>\n",
       "    </tr>\n",
       "    <tr>\n",
       "      <th>3</th>\n",
       "      <td>Hariri warns Lebanon faces Arab sanctions risk...</td>\n",
       "      <td>BEIRUT (Reuters) - Saad al-Hariri warned on Su...</td>\n",
       "      <td>worldnews</td>\n",
       "      <td>November 12, 2017</td>\n",
       "      <td>real</td>\n",
       "    </tr>\n",
       "    <tr>\n",
       "      <th>4</th>\n",
       "      <td>A POEM: ‘Twas The Night Before CNN’s Christmas…’</td>\n",
       "      <td>ACR s BOILER ROOM presents a Christmas poem Tw...</td>\n",
       "      <td>Middle-east</td>\n",
       "      <td>December 25, 2017</td>\n",
       "      <td>fake</td>\n",
       "    </tr>\n",
       "    <tr>\n",
       "      <th>5</th>\n",
       "      <td>Viral Video Shows Trump For The Fascist He Tr...</td>\n",
       "      <td>If you re not scared to death of the prospect ...</td>\n",
       "      <td>News</td>\n",
       "      <td>February 29, 2016</td>\n",
       "      <td>fake</td>\n",
       "    </tr>\n",
       "    <tr>\n",
       "      <th>6</th>\n",
       "      <td>Ana Navarro Lets Trump Know EXACTLY What Lati...</td>\n",
       "      <td>Donald Trump and his campaign know that they s...</td>\n",
       "      <td>News</td>\n",
       "      <td>August 23, 2016</td>\n",
       "      <td>fake</td>\n",
       "    </tr>\n",
       "    <tr>\n",
       "      <th>7</th>\n",
       "      <td>BREAKING: WHY IS OBAMA Sending Huge Number Of ...</td>\n",
       "      <td>The largest armed U.S. military brigade to be ...</td>\n",
       "      <td>Government News</td>\n",
       "      <td>Jan 9, 2017</td>\n",
       "      <td>fake</td>\n",
       "    </tr>\n",
       "    <tr>\n",
       "      <th>8</th>\n",
       "      <td>Australia's population growth outpaces world a...</td>\n",
       "      <td>SYDNEY (Reuters) - Australia s population is e...</td>\n",
       "      <td>worldnews</td>\n",
       "      <td>December 14, 2017</td>\n",
       "      <td>real</td>\n",
       "    </tr>\n",
       "    <tr>\n",
       "      <th>9</th>\n",
       "      <td>Syrian opposition says Russian jets kill civil...</td>\n",
       "      <td>AMMAN (Reuters) - Military jets believed to be...</td>\n",
       "      <td>worldnews</td>\n",
       "      <td>October 5, 2017</td>\n",
       "      <td>real</td>\n",
       "    </tr>\n",
       "    <tr>\n",
       "      <th>10</th>\n",
       "      <td>Turkey to suspend flights to Northern Iraq fro...</td>\n",
       "      <td>ANKARA (Reuters) - Turkey will suspend flights...</td>\n",
       "      <td>worldnews</td>\n",
       "      <td>September 27, 2017</td>\n",
       "      <td>real</td>\n",
       "    </tr>\n",
       "    <tr>\n",
       "      <th>11</th>\n",
       "      <td>Watch Bernie Sanders Slam The Hell Out Of Rep...</td>\n",
       "      <td>Bernie s combination of calling it like it is,...</td>\n",
       "      <td>News</td>\n",
       "      <td>February 24, 2016</td>\n",
       "      <td>fake</td>\n",
       "    </tr>\n",
       "    <tr>\n",
       "      <th>12</th>\n",
       "      <td>Key lawmaker calls Trump defense budget reques...</td>\n",
       "      <td>WASHINGTON (Reuters) - The Republican chairman...</td>\n",
       "      <td>politicsNews</td>\n",
       "      <td>February 27, 2017</td>\n",
       "      <td>real</td>\n",
       "    </tr>\n",
       "    <tr>\n",
       "      <th>13</th>\n",
       "      <td>World's largest amphibious aircraft makes maid...</td>\n",
       "      <td>BEIJING (Reuters) - China s domestically devel...</td>\n",
       "      <td>worldnews</td>\n",
       "      <td>December 24, 2017</td>\n",
       "      <td>real</td>\n",
       "    </tr>\n",
       "    <tr>\n",
       "      <th>14</th>\n",
       "      <td>FLASHBACK: WATCH TED CRUZ Promise To Support D...</td>\n",
       "      <td>Yes, he did promise to support Donald Trump:</td>\n",
       "      <td>politics</td>\n",
       "      <td>Jul 21, 2016</td>\n",
       "      <td>fake</td>\n",
       "    </tr>\n",
       "  </tbody>\n",
       "</table>\n",
       "</div>"
      ],
      "text/plain": [
       "                                                title  \\\n",
       "0   Clinton faces pressure to pick VP who is tough...   \n",
       "1   Ryan, Trump cite 'positive step' toward Republ...   \n",
       "2    WATCH: President Obama Dares Republicans To S...   \n",
       "3   Hariri warns Lebanon faces Arab sanctions risk...   \n",
       "4    A POEM: ‘Twas The Night Before CNN’s Christmas…’   \n",
       "5    Viral Video Shows Trump For The Fascist He Tr...   \n",
       "6    Ana Navarro Lets Trump Know EXACTLY What Lati...   \n",
       "7   BREAKING: WHY IS OBAMA Sending Huge Number Of ...   \n",
       "8   Australia's population growth outpaces world a...   \n",
       "9   Syrian opposition says Russian jets kill civil...   \n",
       "10  Turkey to suspend flights to Northern Iraq fro...   \n",
       "11   Watch Bernie Sanders Slam The Hell Out Of Rep...   \n",
       "12  Key lawmaker calls Trump defense budget reques...   \n",
       "13  World's largest amphibious aircraft makes maid...   \n",
       "14  FLASHBACK: WATCH TED CRUZ Promise To Support D...   \n",
       "\n",
       "                                                 text          subject  \\\n",
       "0   WASHINGTON (Reuters) - Members of the Democrat...     politicsNews   \n",
       "1   WASHINGTON (Reuters) - Presumptive Republican ...     politicsNews   \n",
       "2   Conservatives talk the talk but can they walk ...             News   \n",
       "3   BEIRUT (Reuters) - Saad al-Hariri warned on Su...        worldnews   \n",
       "4   ACR s BOILER ROOM presents a Christmas poem Tw...      Middle-east   \n",
       "5   If you re not scared to death of the prospect ...             News   \n",
       "6   Donald Trump and his campaign know that they s...             News   \n",
       "7   The largest armed U.S. military brigade to be ...  Government News   \n",
       "8   SYDNEY (Reuters) - Australia s population is e...        worldnews   \n",
       "9   AMMAN (Reuters) - Military jets believed to be...        worldnews   \n",
       "10  ANKARA (Reuters) - Turkey will suspend flights...        worldnews   \n",
       "11  Bernie s combination of calling it like it is,...             News   \n",
       "12  WASHINGTON (Reuters) - The Republican chairman...     politicsNews   \n",
       "13  BEIJING (Reuters) - China s domestically devel...        worldnews   \n",
       "14      Yes, he did promise to support Donald Trump:          politics   \n",
       "\n",
       "                   date label  \n",
       "0        July 21, 2016   real  \n",
       "1         May 12, 2016   real  \n",
       "2          July 9, 2016  fake  \n",
       "3    November 12, 2017   real  \n",
       "4     December 25, 2017  fake  \n",
       "5     February 29, 2016  fake  \n",
       "6       August 23, 2016  fake  \n",
       "7           Jan 9, 2017  fake  \n",
       "8    December 14, 2017   real  \n",
       "9      October 5, 2017   real  \n",
       "10  September 27, 2017   real  \n",
       "11    February 24, 2016  fake  \n",
       "12   February 27, 2017   real  \n",
       "13   December 24, 2017   real  \n",
       "14         Jul 21, 2016  fake  "
      ]
     },
     "execution_count": 46,
     "metadata": {},
     "output_type": "execute_result"
    }
   ],
   "source": [
    "###### Check out the training dataset ######\n",
    "train_data.head(15)"
   ]
  },
  {
   "cell_type": "code",
   "execution_count": 47,
   "metadata": {},
   "outputs": [],
   "source": [
    "###### Preprocess the training data ######\n",
    "stopwords = set(stopwords.words('english'))\n",
    "for i in range(rows_train):\n",
    "    # Remove characters not in range a-z or A-Z\n",
    "    train_data['text'][i] = re.sub('[^a-zA-Z]', ' ', train_data['text'][i])\n",
    "\n",
    "    # Make all lowercase\n",
    "    train_data['text'][i] = train_data['text'][i].lower()\n",
    "\n",
    "    # Remove stopwords from texts\n",
    "    text_token = word_tokenize(train_data['text'][i])\n",
    "    train_data['text'][i] = [word for word in text_token if not word in stopwords]\n",
    "    \n",
    "# Finally, turn list of characters to sentence without stopwords\n",
    "train_data['text'] = [[' '.join(word)] for word in train_data['text']]"
   ]
  },
  {
   "cell_type": "code",
   "execution_count": 48,
   "metadata": {},
   "outputs": [],
   "source": [
    "###### Preprocess the testing data ######\n",
    "for i in range(rows_test):\n",
    "    test_data['text'][i] = re.sub('[^a-zA-Z]', ' ', test_data['text'][i])\n",
    "    \n",
    "    test_data['text'][i] = test_data['text'][i].lower()\n",
    "    \n",
    "    text_token = word_tokenize(test_data['text'][i])\n",
    "    test_data['text'][i] = [word for word in text_token if not word in stopwords]\n",
    "    \n",
    "test_data['text'] = [[' '.join(word)] for word in test_data['text']]"
   ]
  },
  {
   "cell_type": "code",
   "execution_count": 49,
   "metadata": {
    "scrolled": true
   },
   "outputs": [],
   "source": [
    "###### Convert list of list to list of strings in order to vectorize ######\n",
    "X_train = [''.join(i) for i in train_data['text']]\n",
    "y_train = [''.join(i) for i in train_data['label']]\n",
    "X_test = [''.join(i) for i in test_data['text']]\n",
    "y_test = [''.join(i) for i in test_data['label']]"
   ]
  },
  {
   "cell_type": "code",
   "execution_count": 50,
   "metadata": {},
   "outputs": [],
   "source": [
    "###### Convert labels to integer values ######\n",
    "for i in range(rows_train):\n",
    "    if y_train[i] == 'fake':\n",
    "        y_train[i] = 0\n",
    "    else:\n",
    "        y_train[i] = 1\n",
    "        \n",
    "for i in range(rows_test):\n",
    "    if y_test[i] == 'fake':\n",
    "        y_test[i] = 0\n",
    "    else:\n",
    "        y_test[i] = 1"
   ]
  },
  {
   "cell_type": "code",
   "execution_count": 51,
   "metadata": {
    "scrolled": true
   },
   "outputs": [],
   "source": [
    "###### Obtain Tfidf Vectors #####\n",
    "from sklearn.feature_extraction.text import TfidfVectorizer\n",
    "tfidf = TfidfVectorizer(max_df=0.7)\n",
    "X_train = tfidf.fit_transform(X_train).toarray()\n",
    "X_test = tfidf.transform(X_test).toarray()"
   ]
  },
  {
   "cell_type": "code",
   "execution_count": 53,
   "metadata": {},
   "outputs": [
    {
     "name": "stdout",
     "output_type": "stream",
     "text": [
      "Naive Bayes training accuracy: 0.961000\n"
     ]
    }
   ],
   "source": [
    "##### Implement Naive Bayes #####\n",
    "from naive_bayes import naive_bayes_train, naive_bayes_predict\n",
    "y_train = np.array(y_train)\n",
    "nb_params = {}\n",
    "nb_model = naive_bayes_train(X_train.T, y_train, nb_params)\n",
    "\n",
    "# Compute training accuracy\n",
    "nb_train_predictions = naive_bayes_predict(X_train.T, nb_model)\n",
    "nb_train_accuracy = np.mean(nb_train_predictions == y_train)\n",
    "print(\"Naive Bayes training accuracy: %f\" % nb_train_accuracy)"
   ]
  },
  {
   "cell_type": "code",
   "execution_count": 54,
   "metadata": {},
   "outputs": [
    {
     "name": "stdout",
     "output_type": "stream",
     "text": [
      "Naive Bayes testing accuracy: 0.893750\n"
     ]
    }
   ],
   "source": [
    "# Compute testing accuracy\n",
    "nb_test_predictions = naive_bayes_predict(X_test.T, nb_model)\n",
    "nb_test_accuracy = np.mean(nb_test_predictions == y_test)\n",
    "print(\"Naive Bayes testing accuracy: %f\" % nb_test_accuracy)"
   ]
  },
  {
   "cell_type": "code",
   "execution_count": 61,
   "metadata": {},
   "outputs": [],
   "source": [
    "X_train = X_train.T\n",
    "X_test = X_test.T"
   ]
  },
  {
   "cell_type": "code",
   "execution_count": 62,
   "metadata": {},
   "outputs": [
    {
     "name": "stdout",
     "output_type": "stream",
     "text": [
      "Linear SVM had test accuracy 0.543750 \n"
     ]
    }
   ],
   "source": [
    "##### Implement Linear SVM #####\n",
    "c_vals = 10 ** np.linspace(-3, 3, 7)\n",
    "best_params = {\n",
    "    'kernel': 'linear',\n",
    "    'C': c_vals[0],\n",
    "}\n",
    "lin_svm_model = kernel_svm_train(X_train, y_train, best_params)\n",
    "predictions, _ = kernel_svm_predict(X_test, lin_svm_model)\n",
    "for i in range(len(predictions)):\n",
    "    if predictions[i] == -1:\n",
    "        predictions[i] = 0\n",
    "test_accuracy = np.mean(predictions == y_test)\n",
    "\n",
    "print(\"Linear SVM had test accuracy %f \" % (test_accuracy))"
   ]
  },
  {
   "cell_type": "code",
   "execution_count": 57,
   "metadata": {},
   "outputs": [
    {
     "name": "stdout",
     "output_type": "stream",
     "text": [
      "MLP had test accuracy 0.956250\n"
     ]
    }
   ],
   "source": [
    "##### Implement Multilayer Perceptron #####\n",
    "structures = [[1], [4], [2, 2], [2, 4], [4, 4]]\n",
    "lambda_vals = [0.01, 0.1, 1]\n",
    "    \n",
    "best_params = {\n",
    "    'max_iter': 400,\n",
    "    'activation_function': logistic,\n",
    "    'loss_function': nll,\n",
    "    'num_hidden_units': structures[4],\n",
    "    'lambda': lambda_vals[1]\n",
    "}\n",
    "                \n",
    "mlp_model = mlp_train(X_train, y_train, best_params)\n",
    "predictions, _, _, _ = mlp_predict(X_test, mlp_model)\n",
    "for i in range(len(predictions)):\n",
    "    if predictions[i] == -1:\n",
    "        predictions[i] = 0\n",
    "test_accuracy = np.mean(predictions == y_test)\n",
    "\n",
    "print(\"MLP had test accuracy %f\" % (test_accuracy))"
   ]
  },
  {
   "cell_type": "code",
   "execution_count": null,
   "metadata": {},
   "outputs": [],
   "source": []
  }
 ],
 "metadata": {
  "kernelspec": {
   "display_name": "Python 3",
   "language": "python",
   "name": "python3"
  },
  "language_info": {
   "codemirror_mode": {
    "name": "ipython",
    "version": 3
   },
   "file_extension": ".py",
   "mimetype": "text/x-python",
   "name": "python",
   "nbconvert_exporter": "python",
   "pygments_lexer": "ipython3",
   "version": "3.8.5"
  }
 },
 "nbformat": 4,
 "nbformat_minor": 4
}
